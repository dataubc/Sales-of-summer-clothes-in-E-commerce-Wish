{
 "cells": [
  {
   "cell_type": "code",
   "execution_count": 11,
   "metadata": {},
   "outputs": [],
   "source": [
    "import pandas as pd\n",
    "import os"
   ]
  },
  {
   "cell_type": "code",
   "execution_count": 12,
   "metadata": {},
   "outputs": [],
   "source": [
    "summer_path = 'data'"
   ]
  },
  {
   "cell_type": "code",
   "execution_count": 13,
   "metadata": {},
   "outputs": [],
   "source": [
    "# let's take a quick look at the dataset head\n",
    "\n",
    "def load_data(path=summer_path):\n",
    "    final_path = os.path.join(summer_path, \"summer-products-with-rating-and-performance_2020-08.csv\")\n",
    "    return pd.read_csv(final_path)"
   ]
  },
  {
   "cell_type": "code",
   "execution_count": 14,
   "metadata": {},
   "outputs": [],
   "source": [
    "summer_data = load_data()"
   ]
  },
  {
   "cell_type": "code",
   "execution_count": 15,
   "metadata": {},
   "outputs": [
    {
     "data": {
      "text/html": [
       "<div>\n",
       "<style scoped>\n",
       "    .dataframe tbody tr th:only-of-type {\n",
       "        vertical-align: middle;\n",
       "    }\n",
       "\n",
       "    .dataframe tbody tr th {\n",
       "        vertical-align: top;\n",
       "    }\n",
       "\n",
       "    .dataframe thead th {\n",
       "        text-align: right;\n",
       "    }\n",
       "</style>\n",
       "<table border=\"1\" class=\"dataframe\">\n",
       "  <thead>\n",
       "    <tr style=\"text-align: right;\">\n",
       "      <th></th>\n",
       "      <th>title</th>\n",
       "      <th>title_orig</th>\n",
       "      <th>price</th>\n",
       "      <th>retail_price</th>\n",
       "      <th>currency_buyer</th>\n",
       "      <th>units_sold</th>\n",
       "      <th>uses_ad_boosts</th>\n",
       "      <th>rating</th>\n",
       "      <th>rating_count</th>\n",
       "      <th>rating_five_count</th>\n",
       "      <th>...</th>\n",
       "      <th>merchant_rating_count</th>\n",
       "      <th>merchant_rating</th>\n",
       "      <th>merchant_id</th>\n",
       "      <th>merchant_has_profile_picture</th>\n",
       "      <th>merchant_profile_picture</th>\n",
       "      <th>product_url</th>\n",
       "      <th>product_picture</th>\n",
       "      <th>product_id</th>\n",
       "      <th>theme</th>\n",
       "      <th>crawl_month</th>\n",
       "    </tr>\n",
       "  </thead>\n",
       "  <tbody>\n",
       "    <tr>\n",
       "      <th>0</th>\n",
       "      <td>2020 Summer Vintage Flamingo Print  Pajamas Se...</td>\n",
       "      <td>2020 Summer Vintage Flamingo Print  Pajamas Se...</td>\n",
       "      <td>16.00</td>\n",
       "      <td>14</td>\n",
       "      <td>EUR</td>\n",
       "      <td>100</td>\n",
       "      <td>0</td>\n",
       "      <td>3.76</td>\n",
       "      <td>54</td>\n",
       "      <td>26.0</td>\n",
       "      <td>...</td>\n",
       "      <td>568</td>\n",
       "      <td>4.128521</td>\n",
       "      <td>595097d6a26f6e070cb878d1</td>\n",
       "      <td>0</td>\n",
       "      <td>NaN</td>\n",
       "      <td>https://www.wish.com/c/5e9ae51d43d6a96e303acdb0</td>\n",
       "      <td>https://contestimg.wish.com/api/webimage/5e9ae...</td>\n",
       "      <td>5e9ae51d43d6a96e303acdb0</td>\n",
       "      <td>summer</td>\n",
       "      <td>2020-08</td>\n",
       "    </tr>\n",
       "    <tr>\n",
       "      <th>1</th>\n",
       "      <td>SSHOUSE Summer Casual Sleeveless Soirée Party ...</td>\n",
       "      <td>Women's Casual Summer Sleeveless Sexy Mini Dress</td>\n",
       "      <td>8.00</td>\n",
       "      <td>22</td>\n",
       "      <td>EUR</td>\n",
       "      <td>20000</td>\n",
       "      <td>1</td>\n",
       "      <td>3.45</td>\n",
       "      <td>6135</td>\n",
       "      <td>2269.0</td>\n",
       "      <td>...</td>\n",
       "      <td>17752</td>\n",
       "      <td>3.899673</td>\n",
       "      <td>56458aa03a698c35c9050988</td>\n",
       "      <td>0</td>\n",
       "      <td>NaN</td>\n",
       "      <td>https://www.wish.com/c/58940d436a0d3d5da4e95a38</td>\n",
       "      <td>https://contestimg.wish.com/api/webimage/58940...</td>\n",
       "      <td>58940d436a0d3d5da4e95a38</td>\n",
       "      <td>summer</td>\n",
       "      <td>2020-08</td>\n",
       "    </tr>\n",
       "    <tr>\n",
       "      <th>2</th>\n",
       "      <td>2020 Nouvelle Arrivée Femmes Printemps et Été ...</td>\n",
       "      <td>2020 New Arrival Women Spring and Summer Beach...</td>\n",
       "      <td>8.00</td>\n",
       "      <td>43</td>\n",
       "      <td>EUR</td>\n",
       "      <td>100</td>\n",
       "      <td>0</td>\n",
       "      <td>3.57</td>\n",
       "      <td>14</td>\n",
       "      <td>5.0</td>\n",
       "      <td>...</td>\n",
       "      <td>295</td>\n",
       "      <td>3.989831</td>\n",
       "      <td>5d464a1ffdf7bc44ee933c65</td>\n",
       "      <td>0</td>\n",
       "      <td>NaN</td>\n",
       "      <td>https://www.wish.com/c/5ea10e2c617580260d55310a</td>\n",
       "      <td>https://contestimg.wish.com/api/webimage/5ea10...</td>\n",
       "      <td>5ea10e2c617580260d55310a</td>\n",
       "      <td>summer</td>\n",
       "      <td>2020-08</td>\n",
       "    </tr>\n",
       "    <tr>\n",
       "      <th>3</th>\n",
       "      <td>Hot Summer Cool T-shirt pour les femmes Mode T...</td>\n",
       "      <td>Hot Summer Cool T Shirt for Women Fashion Tops...</td>\n",
       "      <td>8.00</td>\n",
       "      <td>8</td>\n",
       "      <td>EUR</td>\n",
       "      <td>5000</td>\n",
       "      <td>1</td>\n",
       "      <td>4.03</td>\n",
       "      <td>579</td>\n",
       "      <td>295.0</td>\n",
       "      <td>...</td>\n",
       "      <td>23832</td>\n",
       "      <td>4.020435</td>\n",
       "      <td>58cfdefdacb37b556efdff7c</td>\n",
       "      <td>0</td>\n",
       "      <td>NaN</td>\n",
       "      <td>https://www.wish.com/c/5cedf17ad1d44c52c59e4aca</td>\n",
       "      <td>https://contestimg.wish.com/api/webimage/5cedf...</td>\n",
       "      <td>5cedf17ad1d44c52c59e4aca</td>\n",
       "      <td>summer</td>\n",
       "      <td>2020-08</td>\n",
       "    </tr>\n",
       "    <tr>\n",
       "      <th>4</th>\n",
       "      <td>Femmes Shorts d'été à lacets taille élastique ...</td>\n",
       "      <td>Women Summer Shorts Lace Up Elastic Waistband ...</td>\n",
       "      <td>2.72</td>\n",
       "      <td>3</td>\n",
       "      <td>EUR</td>\n",
       "      <td>100</td>\n",
       "      <td>1</td>\n",
       "      <td>3.10</td>\n",
       "      <td>20</td>\n",
       "      <td>6.0</td>\n",
       "      <td>...</td>\n",
       "      <td>14482</td>\n",
       "      <td>4.001588</td>\n",
       "      <td>5ab3b592c3911a095ad5dadb</td>\n",
       "      <td>0</td>\n",
       "      <td>NaN</td>\n",
       "      <td>https://www.wish.com/c/5ebf5819ebac372b070b0e70</td>\n",
       "      <td>https://contestimg.wish.com/api/webimage/5ebf5...</td>\n",
       "      <td>5ebf5819ebac372b070b0e70</td>\n",
       "      <td>summer</td>\n",
       "      <td>2020-08</td>\n",
       "    </tr>\n",
       "  </tbody>\n",
       "</table>\n",
       "<p>5 rows × 43 columns</p>\n",
       "</div>"
      ],
      "text/plain": [
       "                                               title  \\\n",
       "0  2020 Summer Vintage Flamingo Print  Pajamas Se...   \n",
       "1  SSHOUSE Summer Casual Sleeveless Soirée Party ...   \n",
       "2  2020 Nouvelle Arrivée Femmes Printemps et Été ...   \n",
       "3  Hot Summer Cool T-shirt pour les femmes Mode T...   \n",
       "4  Femmes Shorts d'été à lacets taille élastique ...   \n",
       "\n",
       "                                          title_orig  price  retail_price  \\\n",
       "0  2020 Summer Vintage Flamingo Print  Pajamas Se...  16.00            14   \n",
       "1   Women's Casual Summer Sleeveless Sexy Mini Dress   8.00            22   \n",
       "2  2020 New Arrival Women Spring and Summer Beach...   8.00            43   \n",
       "3  Hot Summer Cool T Shirt for Women Fashion Tops...   8.00             8   \n",
       "4  Women Summer Shorts Lace Up Elastic Waistband ...   2.72             3   \n",
       "\n",
       "  currency_buyer  units_sold  uses_ad_boosts  rating  rating_count  \\\n",
       "0            EUR         100               0    3.76            54   \n",
       "1            EUR       20000               1    3.45          6135   \n",
       "2            EUR         100               0    3.57            14   \n",
       "3            EUR        5000               1    4.03           579   \n",
       "4            EUR         100               1    3.10            20   \n",
       "\n",
       "   rating_five_count  ...  merchant_rating_count  merchant_rating  \\\n",
       "0               26.0  ...                    568         4.128521   \n",
       "1             2269.0  ...                  17752         3.899673   \n",
       "2                5.0  ...                    295         3.989831   \n",
       "3              295.0  ...                  23832         4.020435   \n",
       "4                6.0  ...                  14482         4.001588   \n",
       "\n",
       "                merchant_id  merchant_has_profile_picture  \\\n",
       "0  595097d6a26f6e070cb878d1                             0   \n",
       "1  56458aa03a698c35c9050988                             0   \n",
       "2  5d464a1ffdf7bc44ee933c65                             0   \n",
       "3  58cfdefdacb37b556efdff7c                             0   \n",
       "4  5ab3b592c3911a095ad5dadb                             0   \n",
       "\n",
       "   merchant_profile_picture                                      product_url  \\\n",
       "0                       NaN  https://www.wish.com/c/5e9ae51d43d6a96e303acdb0   \n",
       "1                       NaN  https://www.wish.com/c/58940d436a0d3d5da4e95a38   \n",
       "2                       NaN  https://www.wish.com/c/5ea10e2c617580260d55310a   \n",
       "3                       NaN  https://www.wish.com/c/5cedf17ad1d44c52c59e4aca   \n",
       "4                       NaN  https://www.wish.com/c/5ebf5819ebac372b070b0e70   \n",
       "\n",
       "                                     product_picture  \\\n",
       "0  https://contestimg.wish.com/api/webimage/5e9ae...   \n",
       "1  https://contestimg.wish.com/api/webimage/58940...   \n",
       "2  https://contestimg.wish.com/api/webimage/5ea10...   \n",
       "3  https://contestimg.wish.com/api/webimage/5cedf...   \n",
       "4  https://contestimg.wish.com/api/webimage/5ebf5...   \n",
       "\n",
       "                 product_id   theme crawl_month  \n",
       "0  5e9ae51d43d6a96e303acdb0  summer     2020-08  \n",
       "1  58940d436a0d3d5da4e95a38  summer     2020-08  \n",
       "2  5ea10e2c617580260d55310a  summer     2020-08  \n",
       "3  5cedf17ad1d44c52c59e4aca  summer     2020-08  \n",
       "4  5ebf5819ebac372b070b0e70  summer     2020-08  \n",
       "\n",
       "[5 rows x 43 columns]"
      ]
     },
     "execution_count": 15,
     "metadata": {},
     "output_type": "execute_result"
    }
   ],
   "source": [
    "summer_data.head()"
   ]
  },
  {
   "cell_type": "code",
   "execution_count": 16,
   "metadata": {},
   "outputs": [
    {
     "data": {
      "text/html": [
       "<div>\n",
       "<style scoped>\n",
       "    .dataframe tbody tr th:only-of-type {\n",
       "        vertical-align: middle;\n",
       "    }\n",
       "\n",
       "    .dataframe tbody tr th {\n",
       "        vertical-align: top;\n",
       "    }\n",
       "\n",
       "    .dataframe thead th {\n",
       "        text-align: right;\n",
       "    }\n",
       "</style>\n",
       "<table border=\"1\" class=\"dataframe\">\n",
       "  <thead>\n",
       "    <tr style=\"text-align: right;\">\n",
       "      <th></th>\n",
       "      <th>price</th>\n",
       "      <th>retail_price</th>\n",
       "      <th>units_sold</th>\n",
       "      <th>uses_ad_boosts</th>\n",
       "      <th>rating</th>\n",
       "      <th>rating_count</th>\n",
       "      <th>rating_five_count</th>\n",
       "      <th>rating_four_count</th>\n",
       "      <th>rating_three_count</th>\n",
       "      <th>rating_two_count</th>\n",
       "      <th>...</th>\n",
       "      <th>badge_fast_shipping</th>\n",
       "      <th>product_variation_inventory</th>\n",
       "      <th>shipping_option_price</th>\n",
       "      <th>shipping_is_express</th>\n",
       "      <th>countries_shipped_to</th>\n",
       "      <th>inventory_total</th>\n",
       "      <th>has_urgency_banner</th>\n",
       "      <th>merchant_rating_count</th>\n",
       "      <th>merchant_rating</th>\n",
       "      <th>merchant_has_profile_picture</th>\n",
       "    </tr>\n",
       "  </thead>\n",
       "  <tbody>\n",
       "    <tr>\n",
       "      <th>count</th>\n",
       "      <td>1573.000000</td>\n",
       "      <td>1573.000000</td>\n",
       "      <td>1573.000000</td>\n",
       "      <td>1573.000000</td>\n",
       "      <td>1573.000000</td>\n",
       "      <td>1573.000000</td>\n",
       "      <td>1528.000000</td>\n",
       "      <td>1528.000000</td>\n",
       "      <td>1528.000000</td>\n",
       "      <td>1528.000000</td>\n",
       "      <td>...</td>\n",
       "      <td>1573.000000</td>\n",
       "      <td>1573.000000</td>\n",
       "      <td>1573.000000</td>\n",
       "      <td>1573.000000</td>\n",
       "      <td>1573.000000</td>\n",
       "      <td>1573.000000</td>\n",
       "      <td>473.0</td>\n",
       "      <td>1.573000e+03</td>\n",
       "      <td>1573.000000</td>\n",
       "      <td>1573.000000</td>\n",
       "    </tr>\n",
       "    <tr>\n",
       "      <th>mean</th>\n",
       "      <td>8.325372</td>\n",
       "      <td>23.288620</td>\n",
       "      <td>4339.005086</td>\n",
       "      <td>0.432931</td>\n",
       "      <td>3.820896</td>\n",
       "      <td>889.659250</td>\n",
       "      <td>442.263743</td>\n",
       "      <td>179.599476</td>\n",
       "      <td>134.549738</td>\n",
       "      <td>63.711387</td>\n",
       "      <td>...</td>\n",
       "      <td>0.012715</td>\n",
       "      <td>33.081373</td>\n",
       "      <td>2.345200</td>\n",
       "      <td>0.002543</td>\n",
       "      <td>40.456453</td>\n",
       "      <td>49.821360</td>\n",
       "      <td>1.0</td>\n",
       "      <td>2.649583e+04</td>\n",
       "      <td>4.032345</td>\n",
       "      <td>0.143675</td>\n",
       "    </tr>\n",
       "    <tr>\n",
       "      <th>std</th>\n",
       "      <td>3.932030</td>\n",
       "      <td>30.357863</td>\n",
       "      <td>9356.539302</td>\n",
       "      <td>0.495639</td>\n",
       "      <td>0.515374</td>\n",
       "      <td>1983.928834</td>\n",
       "      <td>980.203270</td>\n",
       "      <td>400.516231</td>\n",
       "      <td>311.690656</td>\n",
       "      <td>151.343933</td>\n",
       "      <td>...</td>\n",
       "      <td>0.112075</td>\n",
       "      <td>21.353137</td>\n",
       "      <td>1.024371</td>\n",
       "      <td>0.050379</td>\n",
       "      <td>20.301203</td>\n",
       "      <td>2.562799</td>\n",
       "      <td>0.0</td>\n",
       "      <td>7.847446e+04</td>\n",
       "      <td>0.204768</td>\n",
       "      <td>0.350871</td>\n",
       "    </tr>\n",
       "    <tr>\n",
       "      <th>min</th>\n",
       "      <td>1.000000</td>\n",
       "      <td>1.000000</td>\n",
       "      <td>1.000000</td>\n",
       "      <td>0.000000</td>\n",
       "      <td>1.000000</td>\n",
       "      <td>0.000000</td>\n",
       "      <td>0.000000</td>\n",
       "      <td>0.000000</td>\n",
       "      <td>0.000000</td>\n",
       "      <td>0.000000</td>\n",
       "      <td>...</td>\n",
       "      <td>0.000000</td>\n",
       "      <td>1.000000</td>\n",
       "      <td>1.000000</td>\n",
       "      <td>0.000000</td>\n",
       "      <td>6.000000</td>\n",
       "      <td>1.000000</td>\n",
       "      <td>1.0</td>\n",
       "      <td>0.000000e+00</td>\n",
       "      <td>2.333333</td>\n",
       "      <td>0.000000</td>\n",
       "    </tr>\n",
       "    <tr>\n",
       "      <th>25%</th>\n",
       "      <td>5.810000</td>\n",
       "      <td>7.000000</td>\n",
       "      <td>100.000000</td>\n",
       "      <td>0.000000</td>\n",
       "      <td>3.550000</td>\n",
       "      <td>24.000000</td>\n",
       "      <td>12.000000</td>\n",
       "      <td>5.000000</td>\n",
       "      <td>4.000000</td>\n",
       "      <td>2.000000</td>\n",
       "      <td>...</td>\n",
       "      <td>0.000000</td>\n",
       "      <td>6.000000</td>\n",
       "      <td>2.000000</td>\n",
       "      <td>0.000000</td>\n",
       "      <td>31.000000</td>\n",
       "      <td>50.000000</td>\n",
       "      <td>1.0</td>\n",
       "      <td>1.987000e+03</td>\n",
       "      <td>3.917353</td>\n",
       "      <td>0.000000</td>\n",
       "    </tr>\n",
       "    <tr>\n",
       "      <th>50%</th>\n",
       "      <td>8.000000</td>\n",
       "      <td>10.000000</td>\n",
       "      <td>1000.000000</td>\n",
       "      <td>0.000000</td>\n",
       "      <td>3.850000</td>\n",
       "      <td>150.000000</td>\n",
       "      <td>79.000000</td>\n",
       "      <td>31.500000</td>\n",
       "      <td>24.000000</td>\n",
       "      <td>11.000000</td>\n",
       "      <td>...</td>\n",
       "      <td>0.000000</td>\n",
       "      <td>50.000000</td>\n",
       "      <td>2.000000</td>\n",
       "      <td>0.000000</td>\n",
       "      <td>40.000000</td>\n",
       "      <td>50.000000</td>\n",
       "      <td>1.0</td>\n",
       "      <td>7.936000e+03</td>\n",
       "      <td>4.040650</td>\n",
       "      <td>0.000000</td>\n",
       "    </tr>\n",
       "    <tr>\n",
       "      <th>75%</th>\n",
       "      <td>11.000000</td>\n",
       "      <td>26.000000</td>\n",
       "      <td>5000.000000</td>\n",
       "      <td>1.000000</td>\n",
       "      <td>4.110000</td>\n",
       "      <td>855.000000</td>\n",
       "      <td>413.500000</td>\n",
       "      <td>168.250000</td>\n",
       "      <td>129.250000</td>\n",
       "      <td>62.000000</td>\n",
       "      <td>...</td>\n",
       "      <td>0.000000</td>\n",
       "      <td>50.000000</td>\n",
       "      <td>3.000000</td>\n",
       "      <td>0.000000</td>\n",
       "      <td>43.000000</td>\n",
       "      <td>50.000000</td>\n",
       "      <td>1.0</td>\n",
       "      <td>2.456400e+04</td>\n",
       "      <td>4.161797</td>\n",
       "      <td>0.000000</td>\n",
       "    </tr>\n",
       "    <tr>\n",
       "      <th>max</th>\n",
       "      <td>49.000000</td>\n",
       "      <td>252.000000</td>\n",
       "      <td>100000.000000</td>\n",
       "      <td>1.000000</td>\n",
       "      <td>5.000000</td>\n",
       "      <td>20744.000000</td>\n",
       "      <td>11548.000000</td>\n",
       "      <td>4152.000000</td>\n",
       "      <td>3658.000000</td>\n",
       "      <td>2003.000000</td>\n",
       "      <td>...</td>\n",
       "      <td>1.000000</td>\n",
       "      <td>50.000000</td>\n",
       "      <td>12.000000</td>\n",
       "      <td>1.000000</td>\n",
       "      <td>140.000000</td>\n",
       "      <td>50.000000</td>\n",
       "      <td>1.0</td>\n",
       "      <td>2.174765e+06</td>\n",
       "      <td>5.000000</td>\n",
       "      <td>1.000000</td>\n",
       "    </tr>\n",
       "  </tbody>\n",
       "</table>\n",
       "<p>8 rows × 24 columns</p>\n",
       "</div>"
      ],
      "text/plain": [
       "             price  retail_price     units_sold  uses_ad_boosts       rating  \\\n",
       "count  1573.000000   1573.000000    1573.000000     1573.000000  1573.000000   \n",
       "mean      8.325372     23.288620    4339.005086        0.432931     3.820896   \n",
       "std       3.932030     30.357863    9356.539302        0.495639     0.515374   \n",
       "min       1.000000      1.000000       1.000000        0.000000     1.000000   \n",
       "25%       5.810000      7.000000     100.000000        0.000000     3.550000   \n",
       "50%       8.000000     10.000000    1000.000000        0.000000     3.850000   \n",
       "75%      11.000000     26.000000    5000.000000        1.000000     4.110000   \n",
       "max      49.000000    252.000000  100000.000000        1.000000     5.000000   \n",
       "\n",
       "       rating_count  rating_five_count  rating_four_count  rating_three_count  \\\n",
       "count   1573.000000        1528.000000        1528.000000         1528.000000   \n",
       "mean     889.659250         442.263743         179.599476          134.549738   \n",
       "std     1983.928834         980.203270         400.516231          311.690656   \n",
       "min        0.000000           0.000000           0.000000            0.000000   \n",
       "25%       24.000000          12.000000           5.000000            4.000000   \n",
       "50%      150.000000          79.000000          31.500000           24.000000   \n",
       "75%      855.000000         413.500000         168.250000          129.250000   \n",
       "max    20744.000000       11548.000000        4152.000000         3658.000000   \n",
       "\n",
       "       rating_two_count  ...  badge_fast_shipping  \\\n",
       "count       1528.000000  ...          1573.000000   \n",
       "mean          63.711387  ...             0.012715   \n",
       "std          151.343933  ...             0.112075   \n",
       "min            0.000000  ...             0.000000   \n",
       "25%            2.000000  ...             0.000000   \n",
       "50%           11.000000  ...             0.000000   \n",
       "75%           62.000000  ...             0.000000   \n",
       "max         2003.000000  ...             1.000000   \n",
       "\n",
       "       product_variation_inventory  shipping_option_price  \\\n",
       "count                  1573.000000            1573.000000   \n",
       "mean                     33.081373               2.345200   \n",
       "std                      21.353137               1.024371   \n",
       "min                       1.000000               1.000000   \n",
       "25%                       6.000000               2.000000   \n",
       "50%                      50.000000               2.000000   \n",
       "75%                      50.000000               3.000000   \n",
       "max                      50.000000              12.000000   \n",
       "\n",
       "       shipping_is_express  countries_shipped_to  inventory_total  \\\n",
       "count          1573.000000           1573.000000      1573.000000   \n",
       "mean              0.002543             40.456453        49.821360   \n",
       "std               0.050379             20.301203         2.562799   \n",
       "min               0.000000              6.000000         1.000000   \n",
       "25%               0.000000             31.000000        50.000000   \n",
       "50%               0.000000             40.000000        50.000000   \n",
       "75%               0.000000             43.000000        50.000000   \n",
       "max               1.000000            140.000000        50.000000   \n",
       "\n",
       "       has_urgency_banner  merchant_rating_count  merchant_rating  \\\n",
       "count               473.0           1.573000e+03      1573.000000   \n",
       "mean                  1.0           2.649583e+04         4.032345   \n",
       "std                   0.0           7.847446e+04         0.204768   \n",
       "min                   1.0           0.000000e+00         2.333333   \n",
       "25%                   1.0           1.987000e+03         3.917353   \n",
       "50%                   1.0           7.936000e+03         4.040650   \n",
       "75%                   1.0           2.456400e+04         4.161797   \n",
       "max                   1.0           2.174765e+06         5.000000   \n",
       "\n",
       "       merchant_has_profile_picture  \n",
       "count                   1573.000000  \n",
       "mean                       0.143675  \n",
       "std                        0.350871  \n",
       "min                        0.000000  \n",
       "25%                        0.000000  \n",
       "50%                        0.000000  \n",
       "75%                        0.000000  \n",
       "max                        1.000000  \n",
       "\n",
       "[8 rows x 24 columns]"
      ]
     },
     "execution_count": 16,
     "metadata": {},
     "output_type": "execute_result"
    }
   ],
   "source": [
    "summer_data.describe()"
   ]
  },
  {
   "cell_type": "code",
   "execution_count": 18,
   "metadata": {},
   "outputs": [
    {
     "data": {
      "image/png": "[encoded data removed]",
      "text/plain": [
       "<Figure size 1440x1080 with 25 Axes>"
      ]
     },
     "metadata": {
      "needs_background": "light"
     },
     "output_type": "display_data"
    }
   ],
   "source": [
    "import matplotlib.pyplot as plt\n",
    "summer_data.hist(bins=50, figsize=(20,15))\n",
    "plt.show()"
   ]
  },
  {
   "cell_type": "code",
   "execution_count": 23,
   "metadata": {},
   "outputs": [],
   "source": [
    "# let's only select numerical data"
   ]
  },
  {
   "cell_type": "code",
   "execution_count": 24,
   "metadata": {},
   "outputs": [],
   "source": [
    "summer_data = summer_data.select_dtypes(include=['float64','int64'])"
   ]
  },
  {
   "cell_type": "code",
   "execution_count": 26,
   "metadata": {},
   "outputs": [],
   "source": [
    "product_revenue = summer_data['price'] * summer_data['units_sold']\n",
    "summer_data['revenue'] = product_revenue "
   ]
  },
  {
   "cell_type": "code",
   "execution_count": 29,
   "metadata": {},
   "outputs": [
    {
     "data": {
      "text/plain": [
       "array([Interval(2.7190000000000003, 600.0, closed='right'),\n",
       "       Interval(600.0, 1600.0, closed='right'),\n",
       "       Interval(1600.0, 11000.0, closed='right'),\n",
       "       Interval(11000.0, 56600.0, closed='right'),\n",
       "       Interval(56600.0, 800000.0, closed='right')], dtype=object)"
      ]
     },
     "execution_count": 29,
     "metadata": {},
     "output_type": "execute_result"
    }
   ],
   "source": [
    "import numpy as np\n",
    "X = summer_data.drop(['units_sold','revenue'],axis=1)\n",
    "y = pd.qcut(summer_data['revenue'], 5, labels=False)\n",
    "np.unique(pd.qcut(summer_data['revenue'], 5).values)"
   ]
  },
  {
   "cell_type": "code",
   "execution_count": 30,
   "metadata": {},
   "outputs": [],
   "source": [
    "from sklearn.pipeline import Pipeline\n",
    "from sklearn.preprocessing import StandardScaler\n",
    "from sklearn.impute import SimpleImputer\n",
    "\n",
    "\n",
    "num_pipeline = Pipeline([\n",
    "        ('imputer', SimpleImputer(strategy=\"median\")),\n",
    "        ('std_scaler', StandardScaler()),\n",
    "    ])\n",
    "\n",
    "X = num_pipeline.fit_transform(X)"
   ]
  },
  {
   "cell_type": "code",
   "execution_count": 31,
   "metadata": {},
   "outputs": [],
   "source": [
    "from sklearn.model_selection import train_test_split\n",
    "X_train, X_test, y_train, y_test = train_test_split(X, y, test_size=0.2, random_state=42)"
   ]
  },
  {
   "cell_type": "code",
   "execution_count": 36,
   "metadata": {},
   "outputs": [],
   "source": [
    "from sklearn.ensemble import RandomForestClassifier\n",
    "from sklearn.ensemble import VotingClassifier\n",
    "from sklearn.linear_model import LogisticRegression\n",
    "from sklearn.svm import SVC\n",
    "\n",
    "log_clf = LogisticRegression(solver=\"lbfgs\", random_state=42)\n",
    "rnd_clf = RandomForestClassifier(n_estimators=100, random_state=42)\n",
    "svm_clf = SVC(gamma=\"scale\", random_state=42)\n",
    "\n",
    "voting_clf = VotingClassifier(\n",
    "    estimators=[('lr', log_clf), ('rf', rnd_clf), ('svc', svm_clf)],\n",
    "    voting='hard')"
   ]
  },
  {
   "cell_type": "code",
   "execution_count": 37,
   "metadata": {},
   "outputs": [
    {
     "data": {
      "text/plain": [
       "VotingClassifier(estimators=[('lr', LogisticRegression(random_state=42)),\n",
       "                             ('rf', RandomForestClassifier(random_state=42)),\n",
       "                             ('svc', SVC(random_state=42))])"
      ]
     },
     "execution_count": 37,
     "metadata": {},
     "output_type": "execute_result"
    }
   ],
   "source": [
    "voting_clf.fit(X_train, y_train)"
   ]
  },
  {
   "cell_type": "code",
   "execution_count": 38,
   "metadata": {},
   "outputs": [
    {
     "name": "stdout",
     "output_type": "stream",
     "text": [
      "LogisticRegression 0.6666666666666666\n",
      "RandomForestClassifier 0.8055555555555556\n",
      "SVC 0.6851851851851852\n",
      "VotingClassifier 0.7407407407407407\n"
     ]
    }
   ],
   "source": [
    "from sklearn.metrics import accuracy_score\n",
    "\n",
    "for clf in (log_clf, rnd_clf, svm_clf, voting_clf):\n",
    "    clf.fit(X_train[:1150], y_train[:1150])\n",
    "    y_pred = clf.predict(X_train[1150:])\n",
    "    print(clf.__class__.__name__, accuracy_score(y_train[1150:], y_pred))"
   ]
  },
  {
   "cell_type": "code",
   "execution_count": 40,
   "metadata": {},
   "outputs": [],
   "source": [
    "from sklearn.model_selection import GridSearchCV\n",
    "from sklearn.model_selection import RandomizedSearchCV\n",
    "from scipy.stats import randint"
   ]
  },
  {
   "cell_type": "code",
   "execution_count": 41,
   "metadata": {},
   "outputs": [
    {
     "name": "stdout",
     "output_type": "stream",
     "text": [
      "Fitting 3 folds for each of 10 candidates, totalling 30 fits\n"
     ]
    },
    {
     "name": "stderr",
     "output_type": "stream",
     "text": [
      "[Parallel(n_jobs=1)]: Using backend SequentialBackend with 1 concurrent workers.\n",
      "[Parallel(n_jobs=1)]: Done  30 out of  30 | elapsed:    9.7s finished\n"
     ]
    },
    {
     "data": {
      "text/plain": [
       "RandomizedSearchCV(cv=3, estimator=RandomForestClassifier(random_state=42),\n",
       "                   param_distributions={'max_features': <scipy.stats._distn_infrastructure.rv_frozen object at 0x7fadee4ef310>,\n",
       "                                        'max_leaf_nodes': [80, 81, 82, 83, 84,\n",
       "                                                           85, 86, 87, 88, 89,\n",
       "                                                           90, 91, 92, 93, 94,\n",
       "                                                           95, 96, 97, 98, 99,\n",
       "                                                           100, 101, 102, 103,\n",
       "                                                           104, 105, 106, 107,\n",
       "                                                           108, 109, ...],\n",
       "                                        'n_estimators': [20, 21, 22, 23, 24, 25,\n",
       "                                                         26, 27, 28, 29, 30, 31,\n",
       "                                                         32, 33, 34, 35, 36, 37,\n",
       "                                                         38, 39, 40, 41, 42, 43,\n",
       "                                                         44, 45, 46, 47, 48, 49, ...]},\n",
       "                   scoring='accuracy', verbose=1)"
      ]
     },
     "execution_count": 41,
     "metadata": {},
     "output_type": "execute_result"
    }
   ],
   "source": [
    "params = {'max_leaf_nodes': list(range(80, 200)),'n_estimators':list(range(20, 200)),\n",
    "          'max_features': randint(low=10, high=23),}\n",
    "rnd_search = RandomizedSearchCV(RandomForestClassifier(random_state=42), params,\n",
    "                                    verbose=1, cv=3,n_iter=10,scoring='accuracy')\n",
    "\n",
    "rnd_search.fit(X_train, y_train)"
   ]
  },
  {
   "cell_type": "code",
   "execution_count": 42,
   "metadata": {},
   "outputs": [
    {
     "name": "stdout",
     "output_type": "stream",
     "text": [
      "0.8362294957760352 {'max_features': 11, 'max_leaf_nodes': 86, 'n_estimators': 98}\n",
      "0.8306739402204796 {'max_features': 15, 'max_leaf_nodes': 113, 'n_estimators': 138}\n",
      "0.8370269348789635 {'max_features': 22, 'max_leaf_nodes': 144, 'n_estimators': 65}\n",
      "0.8275031253551539 {'max_features': 12, 'max_leaf_nodes': 125, 'n_estimators': 25}\n",
      "0.8354434216009395 {'max_features': 17, 'max_leaf_nodes': 111, 'n_estimators': 69}\n",
      "0.8354434216009395 {'max_features': 12, 'max_leaf_nodes': 94, 'n_estimators': 103}\n",
      "0.8370307231882411 {'max_features': 14, 'max_leaf_nodes': 129, 'n_estimators': 193}\n",
      "0.8370269348789634 {'max_features': 19, 'max_leaf_nodes': 187, 'n_estimators': 150}\n",
      "0.8370288290336023 {'max_features': 13, 'max_leaf_nodes': 167, 'n_estimators': 124}\n",
      "0.838623707239459 {'max_features': 17, 'max_leaf_nodes': 154, 'n_estimators': 135}\n"
     ]
    }
   ],
   "source": [
    "cvres = rnd_search.cv_results_\n",
    "for mean_score, params in zip(cvres[\"mean_test_score\"], cvres[\"params\"]):\n",
    "    print(mean_score, params)"
   ]
  },
  {
   "cell_type": "code",
   "execution_count": 43,
   "metadata": {},
   "outputs": [],
   "source": [
    "model = rnd_search.best_estimator_"
   ]
  },
  {
   "cell_type": "code",
   "execution_count": 45,
   "metadata": {},
   "outputs": [
    {
     "name": "stdout",
     "output_type": "stream",
     "text": [
      "price 0.18534399511029595\n",
      "retail_price 0.028035243110132654\n",
      "uses_ad_boosts 0.004577379354950911\n",
      "rating 0.0223624142826732\n",
      "rating_count 0.32697155043348236\n",
      "rating_five_count 0.05615774856729752\n",
      "rating_four_count 0.08732200415497195\n",
      "rating_three_count 0.10311200610522304\n",
      "rating_two_count 0.029956300361581985\n",
      "rating_one_count 0.026265527677392812\n",
      "badges_count 0.0007174672900043236\n",
      "badge_local_product 0.0006775587765879525\n",
      "badge_product_quality 0.000586684677966023\n",
      "badge_fast_shipping 0.00015610152332195078\n",
      "product_variation_inventory 0.012393935112414045\n",
      "shipping_option_price 0.024097162384114034\n",
      "shipping_is_express 0.00017175802768963383\n",
      "countries_shipped_to 0.020876129343201728\n",
      "inventory_total 0.0006120434933614864\n",
      "has_urgency_banner 0.0\n",
      "merchant_rating_count 0.03441148747857132\n",
      "merchant_rating 0.02945618864553124\n",
      "merchant_has_profile_picture 0.005739314089233888\n"
     ]
    }
   ],
   "source": [
    "for i,j in zip(summer_data.drop(['units_sold','revenue'],axis=1).columns.values,model.feature_importances_):\n",
    "        print(i,j)"
   ]
  },
  {
   "cell_type": "code",
   "execution_count": 46,
   "metadata": {},
   "outputs": [],
   "source": [
    "pred = model.predict(X_test)"
   ]
  },
  {
   "cell_type": "code",
   "execution_count": 47,
   "metadata": {},
   "outputs": [
    {
     "data": {
      "text/plain": [
       "0.819047619047619"
      ]
     },
     "execution_count": 47,
     "metadata": {},
     "output_type": "execute_result"
    }
   ],
   "source": [
    "accuracy_score(pred,y_test)"
   ]
  },
  {
   "cell_type": "code",
   "execution_count": 48,
   "metadata": {},
   "outputs": [
    {
     "data": {
      "text/plain": [
       "array([[63,  0,  1,  0,  0],\n",
       "       [ 6, 58,  4,  1,  0],\n",
       "       [ 5,  4, 48, 10,  0],\n",
       "       [ 0,  2,  5, 42,  9],\n",
       "       [ 0,  0,  0, 10, 47]])"
      ]
     },
     "execution_count": 48,
     "metadata": {},
     "output_type": "execute_result"
    }
   ],
   "source": [
    "from sklearn.metrics import confusion_matrix\n",
    "confusion_matrix(y_test.values, pred)"
   ]
  },
  {
   "cell_type": "code",
   "execution_count": null,
   "metadata": {},
   "outputs": [],
   "source": []
  }
 ],
 "metadata": {
  "kernelspec": {
   "display_name": "Python 3",
   "language": "python",
   "name": "python3"
  },
  "language_info": {
   "codemirror_mode": {
    "name": "ipython",
    "version": 3
   },
   "file_extension": ".py",
   "mimetype": "text/x-python",
   "name": "python",
   "nbconvert_exporter": "python",
   "pygments_lexer": "ipython3",
   "version": "3.8.3"
  }
 },
 "nbformat": 4,
 "nbformat_minor": 4
}
